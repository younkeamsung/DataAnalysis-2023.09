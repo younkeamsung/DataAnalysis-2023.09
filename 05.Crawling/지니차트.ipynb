{
 "cells": [
  {
   "cell_type": "code",
   "execution_count": 2,
   "metadata": {},
   "outputs": [],
   "source": [
    "import requests\n",
    "import pandas as pd\n",
    "from tqdm import tqdm\n",
    "from bs4 import BeautifulSoup"
   ]
  },
  {
   "cell_type": "code",
   "execution_count": 3,
   "metadata": {},
   "outputs": [
    {
     "data": {
      "text/plain": [
       "'<br>\\r\\n<br>\\r\\n<center>\\r\\n<br>\\r\\n<h2> <meta http-equiv=\"Content-Type\" content=\"text/html;charset=UTF-8\"> ì\\xa0\\x91ì\\x86\\x8dì\\x9a\\x94ì²\\xadì\\x9d´ ë³´ì\\x95\\x88ì\\xa0\\x95ì±\\x85ì\\x97\\x90 ì\\x9d\\x98í\\x95´ ì°¨ë\\x8b¨ë\\x90\\x98ì\\x97\\x88ì\\x8aµë\\x8b\\x88ë\\x8b¤. ë\\x8b¹ì\\x82¬ ê³\\xa0ê°\\x9dì\\x84¼í\\x84°ë¡\\x9c ë¬¸ì\\x9d\\x98í\\x95´ì£¼ì\\x8b\\xadì\\x8b\\x9cì\\x98¤.<br><br>\\r\\nThe security policy of the connection request is blocked. Contact your customer service representative.<br><br>\\r\\nì§\\x80ë\\x8b\\x88ë®¤ì§\\x81 ê³\\xa0ê°\\x9dì\\x84¼í\\x84° 1577-5337<br><br>\\r\\n</h2>\\r\\n</center>\\r\\n<br>'"
      ]
     },
     "execution_count": 3,
     "metadata": {},
     "output_type": "execute_result"
    }
   ],
   "source": [
    "url = 'https://www.genie.co.kr/chart/top200'\n",
    "res = requests.get(url)\n",
    "res.text"
   ]
  },
  {
   "cell_type": "code",
   "execution_count": 4,
   "metadata": {},
   "outputs": [
    {
     "data": {
      "text/plain": [
       "'\\r\\n\\r\\n\\r\\n\\r\\n\\r\\n\\r\\n<!DOCTYPE html>\\r\\n<html lang=\"ko\">\\r\\n<head>\\r\\n\\t\\n\\n\\n\\n\\n<meta http-equiv=\"X-UA-Compatible\" content=\"IE=edge\" />\\n<!--[if lte IE 6]><html dir=\"ltr\" class=\"no-js ie6\"><![endif]-->\\n<!--[if lte IE 7]><html dir=\"ltr\" class=\"no-js ie7\"><![endif]-->\\n<!--[if IE 8]><html dir=\"ltr\" class=\"no-js ie8\"><![endif]-->\\n<!--[if IE 9]><html dir=\"ltr\" class=\"no-js ie9\"><![endif]-->\\n<!--[if (gte IE 10)|!(IE)]><!--><html dir=\"ltr\" class=\"no-js\"><!--<![endif]-->\\n<title>음악, 그리고 설레임 - 지니</title>\\n<meta charset=\"utf-8'"
      ]
     },
     "execution_count": 4,
     "metadata": {},
     "output_type": "execute_result"
    }
   ],
   "source": [
    "header = {'User-Agent': 'Mozilla/5.0 (Windows NT 10.0; Win64; x64) AppleWebKit/537.36 (KHTML, like Gecko) Chrome/117.0.0.0 Safari/537.36'}\n",
    "res = requests.get(url, headers=header)\n",
    "res.text[:500]"
   ]
  },
  {
   "cell_type": "code",
   "execution_count": 5,
   "metadata": {},
   "outputs": [],
   "source": [
    "soup = BeautifulSoup(res.text, 'html.parser')"
   ]
  },
  {
   "cell_type": "code",
   "execution_count": 6,
   "metadata": {},
   "outputs": [
    {
     "data": {
      "text/plain": [
       "50"
      ]
     },
     "execution_count": 6,
     "metadata": {},
     "output_type": "execute_result"
    }
   ],
   "source": [
    "trs = soup.select('.list-wrap > tbody > tr')\n",
    "len(trs)"
   ]
  },
  {
   "cell_type": "code",
   "execution_count": 7,
   "metadata": {},
   "outputs": [],
   "source": [
    "tr = trs[0]"
   ]
  },
  {
   "cell_type": "code",
   "execution_count": 8,
   "metadata": {},
   "outputs": [
    {
     "data": {
      "text/plain": [
       "('1', '유지')"
      ]
     },
     "execution_count": 8,
     "metadata": {},
     "output_type": "execute_result"
    }
   ],
   "source": [
    "rank = tr.select_one('.number').get_text().strip().replace('\\n','')\n",
    "rank = rank.replace(' ','')\n",
    "rank,rank_none = rank[0],rank[1:]\n",
    "rank, rank_none"
   ]
  },
  {
   "cell_type": "code",
   "execution_count": 9,
   "metadata": {},
   "outputs": [],
   "source": [
    "def rank_date(s):\n",
    "    if len(s) == 3:        # '2023.09.18.'\n",
    "        return s[-2:]\n",
    "    "
   ]
  },
  {
   "cell_type": "code",
   "execution_count": 10,
   "metadata": {},
   "outputs": [
    {
     "data": {
      "text/plain": [
       "'//image.genie.co.kr/Y/IMAGE/IMG_ALBUM/084/181/610/84181610_1692585955705_1_140x140.JPG/dims/resize/Q_80,0'"
      ]
     },
     "execution_count": 10,
     "metadata": {},
     "output_type": "execute_result"
    }
   ],
   "source": [
    "album_cover = tr.select_one('.cover > img')['src']\n",
    "album_cover"
   ]
  },
  {
   "cell_type": "code",
   "execution_count": 11,
   "metadata": {},
   "outputs": [
    {
     "data": {
      "text/plain": [
       "'Love Lee'"
      ]
     },
     "execution_count": 11,
     "metadata": {},
     "output_type": "execute_result"
    }
   ],
   "source": [
    "title = tr.select_one('.title.ellipsis').get_text().strip()\n",
    "title"
   ]
  },
  {
   "cell_type": "code",
   "execution_count": 12,
   "metadata": {},
   "outputs": [
    {
     "data": {
      "text/plain": [
       "'AKMU (악뮤)'"
      ]
     },
     "execution_count": 12,
     "metadata": {},
     "output_type": "execute_result"
    }
   ],
   "source": [
    "artist = tr.select_one('.artist.ellipsis').get_text().strip()\n",
    "artist"
   ]
  },
  {
   "cell_type": "code",
   "execution_count": 13,
   "metadata": {},
   "outputs": [
    {
     "data": {
      "text/plain": [
       "'Love Lee'"
      ]
     },
     "execution_count": 13,
     "metadata": {},
     "output_type": "execute_result"
    }
   ],
   "source": [
    "album_title = tr.select_one('.albumtitle.ellipsis').get_text().strip()\n",
    "album_title"
   ]
  },
  {
   "cell_type": "code",
   "execution_count": 14,
   "metadata": {},
   "outputs": [
    {
     "data": {
      "text/plain": [
       "datetime.datetime(2023, 9, 19, 9, 13, 57, 390310)"
      ]
     },
     "execution_count": 14,
     "metadata": {},
     "output_type": "execute_result"
    }
   ],
   "source": [
    "from datetime import datetime, timedelta\n",
    "\n",
    "now = datetime.now()\n",
    "now"
   ]
  },
  {
   "cell_type": "code",
   "execution_count": 19,
   "metadata": {},
   "outputs": [
    {
     "data": {
      "text/plain": [
       "'20230919'"
      ]
     },
     "execution_count": 19,
     "metadata": {},
     "output_type": "execute_result"
    }
   ],
   "source": [
    "date = now\n",
    "date1 = f'{date.year}.{date.month:02d}.{date.day:02d}'\n",
    "date1 = date1.replace('.','')\n",
    "date1"
   ]
  },
  {
   "cell_type": "code",
   "execution_count": 16,
   "metadata": {},
   "outputs": [
    {
     "data": {
      "text/plain": [
       "'9'"
      ]
     },
     "execution_count": 16,
     "metadata": {},
     "output_type": "execute_result"
    }
   ],
   "source": [
    "date2 = f'{date.hour}'\n",
    "date2"
   ]
  },
  {
   "cell_type": "code",
   "execution_count": 20,
   "metadata": {},
   "outputs": [
    {
     "name": "stderr",
     "output_type": "stream",
     "text": [
      "100%|██████████| 4/4 [00:01<00:00,  3.10it/s]\n"
     ]
    }
   ],
   "source": [
    "data = []\n",
    "for page in tqdm(range(1, 5)):\n",
    "    url = f'https://www.genie.co.kr/chart/top200?pg={page}'\n",
    "    res = requests.get(url, headers=header)\n",
    "    soup = BeautifulSoup(res.text, 'html.parser')\n",
    "    trs = soup.select('.list-wrap > tbody > tr')\n",
    "    \n",
    "    for tr in trs:\n",
    "        rank = tr.select_one('.number').get_text().strip().replace('\\n','')\n",
    "        rank = rank.replace(' ','')\n",
    "        rank,rank_none = rank[0],rank[1:]\n",
    "        rank, rank_none\n",
    "        album_cover = tr.select_one('.cover > img')['src']\n",
    "        title = tr.select_one('.title.ellipsis').get_text().strip()\n",
    "        artist = tr.select_one('.artist.ellipsis').get_text().strip()\n",
    "        album_title = tr.select_one('.albumtitle.ellipsis').get_text().strip()\n",
    "\n",
    "        data.append({'순위':rank, '순위변동':rank_none, '앨범커버':album_cover, '제목':title, \n",
    "                    '가수':artist,'앨범타이틀':album_title})"
   ]
  },
  {
   "cell_type": "code",
   "execution_count": 21,
   "metadata": {},
   "outputs": [
    {
     "data": {
      "text/html": [
       "<div>\n",
       "<style scoped>\n",
       "    .dataframe tbody tr th:only-of-type {\n",
       "        vertical-align: middle;\n",
       "    }\n",
       "\n",
       "    .dataframe tbody tr th {\n",
       "        vertical-align: top;\n",
       "    }\n",
       "\n",
       "    .dataframe thead th {\n",
       "        text-align: right;\n",
       "    }\n",
       "</style>\n",
       "<table border=\"1\" class=\"dataframe\">\n",
       "  <thead>\n",
       "    <tr style=\"text-align: right;\">\n",
       "      <th></th>\n",
       "      <th>순위</th>\n",
       "      <th>순위변동</th>\n",
       "      <th>앨범커버</th>\n",
       "      <th>제목</th>\n",
       "      <th>가수</th>\n",
       "      <th>앨범타이틀</th>\n",
       "    </tr>\n",
       "  </thead>\n",
       "  <tbody>\n",
       "    <tr>\n",
       "      <th>0</th>\n",
       "      <td>1</td>\n",
       "      <td>유지</td>\n",
       "      <td>//image.genie.co.kr/Y/IMAGE/IMG_ALBUM/084/181/...</td>\n",
       "      <td>Love Lee</td>\n",
       "      <td>AKMU (악뮤)</td>\n",
       "      <td>Love Lee</td>\n",
       "    </tr>\n",
       "    <tr>\n",
       "      <th>1</th>\n",
       "      <td>2</td>\n",
       "      <td>유지</td>\n",
       "      <td>//image.genie.co.kr/Y/IMAGE/IMG_ALBUM/084/193/...</td>\n",
       "      <td>Smoke (Prod. by Dynamicduo &amp; Padi)</td>\n",
       "      <td>다이나믹 듀오 &amp; 이영지</td>\n",
       "      <td>스트릿 우먼 파이터2 (SWF2) 계급미션</td>\n",
       "    </tr>\n",
       "    <tr>\n",
       "      <th>2</th>\n",
       "      <td>3</td>\n",
       "      <td>유지</td>\n",
       "      <td>//image.genie.co.kr/Y/IMAGE/IMG_ALBUM/084/181/...</td>\n",
       "      <td>후라이의 꿈</td>\n",
       "      <td>AKMU (악뮤)</td>\n",
       "      <td>Love Lee</td>\n",
       "    </tr>\n",
       "    <tr>\n",
       "      <th>3</th>\n",
       "      <td>4</td>\n",
       "      <td>유지</td>\n",
       "      <td>//image.genie.co.kr/Y/IMAGE/IMG_ALBUM/084/019/...</td>\n",
       "      <td>ETA</td>\n",
       "      <td>NewJeans</td>\n",
       "      <td>NewJeans 2nd EP 'Get Up'</td>\n",
       "    </tr>\n",
       "    <tr>\n",
       "      <th>4</th>\n",
       "      <td>5</td>\n",
       "      <td>1상승</td>\n",
       "      <td>//image.genie.co.kr/Y/IMAGE/IMG_ALBUM/084/048/...</td>\n",
       "      <td>Seven (Feat. Latto) (Clean Ver.)</td>\n",
       "      <td>정국</td>\n",
       "      <td>Seven (Clean Ver.)</td>\n",
       "    </tr>\n",
       "  </tbody>\n",
       "</table>\n",
       "</div>"
      ],
      "text/plain": [
       "  순위 순위변동                                               앨범커버  \\\n",
       "0  1   유지  //image.genie.co.kr/Y/IMAGE/IMG_ALBUM/084/181/...   \n",
       "1  2   유지  //image.genie.co.kr/Y/IMAGE/IMG_ALBUM/084/193/...   \n",
       "2  3   유지  //image.genie.co.kr/Y/IMAGE/IMG_ALBUM/084/181/...   \n",
       "3  4   유지  //image.genie.co.kr/Y/IMAGE/IMG_ALBUM/084/019/...   \n",
       "4  5  1상승  //image.genie.co.kr/Y/IMAGE/IMG_ALBUM/084/048/...   \n",
       "\n",
       "                                   제목             가수                     앨범타이틀  \n",
       "0                            Love Lee      AKMU (악뮤)                  Love Lee  \n",
       "1  Smoke (Prod. by Dynamicduo & Padi)  다이나믹 듀오 & 이영지   스트릿 우먼 파이터2 (SWF2) 계급미션  \n",
       "2                              후라이의 꿈      AKMU (악뮤)                  Love Lee  \n",
       "3                                 ETA       NewJeans  NewJeans 2nd EP 'Get Up'  \n",
       "4    Seven (Feat. Latto) (Clean Ver.)             정국        Seven (Clean Ver.)  "
      ]
     },
     "execution_count": 21,
     "metadata": {},
     "output_type": "execute_result"
    }
   ],
   "source": [
    "df = pd.DataFrame(data)\n",
    "df.head()"
   ]
  },
  {
   "cell_type": "code",
   "execution_count": null,
   "metadata": {},
   "outputs": [],
   "source": []
  }
 ],
 "metadata": {
  "kernelspec": {
   "display_name": "base",
   "language": "python",
   "name": "python3"
  },
  "language_info": {
   "codemirror_mode": {
    "name": "ipython",
    "version": 3
   },
   "file_extension": ".py",
   "mimetype": "text/x-python",
   "name": "python",
   "nbconvert_exporter": "python",
   "pygments_lexer": "ipython3",
   "version": "3.11.4"
  },
  "orig_nbformat": 4
 },
 "nbformat": 4,
 "nbformat_minor": 2
}
