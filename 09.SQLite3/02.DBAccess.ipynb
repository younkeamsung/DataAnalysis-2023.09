{
 "cells": [
  {
   "cell_type": "markdown",
   "metadata": {},
   "source": [
    "## member_dao를 이용한 DB Access"
   ]
  },
  {
   "cell_type": "code",
   "execution_count": 8,
   "metadata": {},
   "outputs": [],
   "source": [
    "import member_dao as mdao"
   ]
  },
  {
   "cell_type": "code",
   "execution_count": 9,
   "metadata": {},
   "outputs": [
    {
     "ename": "AttributeError",
     "evalue": "'sqlite3.Cursor' object has no attribute 'excute'",
     "output_type": "error",
     "traceback": [
      "\u001b[1;31m---------------------------------------------------------------------------\u001b[0m",
      "\u001b[1;31mAttributeError\u001b[0m                            Traceback (most recent call last)",
      "\u001b[1;32md:\\workspace\\02.DataAnalysis\\09.SQLite3\\02.DBAccess.ipynb 셀 3\u001b[0m line \u001b[0;36m1\n\u001b[1;32m----> <a href='vscode-notebook-cell:/d%3A/workspace/02.DataAnalysis/09.SQLite3/02.DBAccess.ipynb#W2sZmlsZQ%3D%3D?line=0'>1</a>\u001b[0m results \u001b[39m=\u001b[39m mdao\u001b[39m.\u001b[39mget_members()\n\u001b[0;32m      <a href='vscode-notebook-cell:/d%3A/workspace/02.DataAnalysis/09.SQLite3/02.DBAccess.ipynb#W2sZmlsZQ%3D%3D?line=1'>2</a>\u001b[0m \u001b[39mfor\u001b[39;00m row \u001b[39min\u001b[39;00m results:\n\u001b[0;32m      <a href='vscode-notebook-cell:/d%3A/workspace/02.DataAnalysis/09.SQLite3/02.DBAccess.ipynb#W2sZmlsZQ%3D%3D?line=2'>3</a>\u001b[0m     \u001b[39mprint\u001b[39m(row)\n",
      "File \u001b[1;32md:\\workspace\\02.DataAnalysis\\09.SQLite3\\member_dao.py:12\u001b[0m, in \u001b[0;36mget_members\u001b[1;34m()\u001b[0m\n\u001b[0;32m      9\u001b[0m cur \u001b[39m=\u001b[39m conn\u001b[39m.\u001b[39mcursor()\n\u001b[0;32m     11\u001b[0m sql \u001b[39m=\u001b[39m \u001b[39m'\u001b[39m\u001b[39mselect * from member\u001b[39m\u001b[39m'\u001b[39m\n\u001b[1;32m---> 12\u001b[0m cur\u001b[39m.\u001b[39mexcute(sql)\n\u001b[0;32m     13\u001b[0m rows \u001b[39m=\u001b[39m cur\u001b[39m.\u001b[39mfetchall()\n\u001b[0;32m     15\u001b[0m cur\u001b[39m.\u001b[39mclose()\n",
      "\u001b[1;31mAttributeError\u001b[0m: 'sqlite3.Cursor' object has no attribute 'excute'"
     ]
    }
   ],
   "source": [
    "results = mdao.get_members()\n",
    "for row in results:\n",
    "    print(row)"
   ]
  },
  {
   "cell_type": "code",
   "execution_count": null,
   "metadata": {},
   "outputs": [],
   "source": []
  }
 ],
 "metadata": {
  "kernelspec": {
   "display_name": "base",
   "language": "python",
   "name": "python3"
  },
  "language_info": {
   "codemirror_mode": {
    "name": "ipython",
    "version": 3
   },
   "file_extension": ".py",
   "mimetype": "text/x-python",
   "name": "python",
   "nbconvert_exporter": "python",
   "pygments_lexer": "ipython3",
   "version": "3.11.4"
  },
  "orig_nbformat": 4
 },
 "nbformat": 4,
 "nbformat_minor": 2
}
