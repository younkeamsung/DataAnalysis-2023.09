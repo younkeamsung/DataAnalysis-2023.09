{
 "cells": [
  {
   "cell_type": "markdown",
   "metadata": {},
   "source": [
    "## 네이버뉴스 워드클라우드"
   ]
  },
  {
   "cell_type": "code",
   "execution_count": 2,
   "metadata": {},
   "outputs": [],
   "source": [
    "import time\n",
    "from selenium import webdriver\n",
    "from selenium.webdriver.common.by import By\n",
    "from bs4 import BeautifulSoup\n",
    "from urllib.parse import quote\n",
    "from tqdm import tqdm\n",
    "import pandas as pd"
   ]
  },
  {
   "cell_type": "code",
   "execution_count": 3,
   "metadata": {},
   "outputs": [],
   "source": [
    "url = f'https://sports.news.naver.com/kbaseball/news/index?isphoto=N&page=1'\n",
    "driver = webdriver.Chrome()\n",
    "driver.get(url)\n",
    "soup = BeautifulSoup(driver.page_source, 'html.parser')"
   ]
  },
  {
   "cell_type": "code",
   "execution_count": 4,
   "metadata": {},
   "outputs": [],
   "source": [
    "lis = soup.select('.news_list > ul > li')\n",
    "len(lis)\n",
    "li = lis[0]"
   ]
  },
  {
   "cell_type": "code",
   "execution_count": 5,
   "metadata": {},
   "outputs": [],
   "source": [
    "title = li.select_one('.title > span').get_text().strip()"
   ]
  },
  {
   "cell_type": "code",
   "execution_count": 6,
   "metadata": {},
   "outputs": [
    {
     "data": {
      "text/plain": [
       "\"KIA, 23일 KT전 'ACC(국립아시아문화전당) 데이' 진행...가수 소향 특별 공연\""
      ]
     },
     "execution_count": 6,
     "metadata": {},
     "output_type": "execute_result"
    }
   ],
   "source": [
    "title"
   ]
  },
  {
   "cell_type": "code",
   "execution_count": 7,
   "metadata": {},
   "outputs": [],
   "source": [
    "data = []\n",
    "for li in lis:\n",
    "    title = li.select_one('.title > span').get_text().strip()\n",
    "    data.append(title)"
   ]
  },
  {
   "cell_type": "code",
   "execution_count": 8,
   "metadata": {},
   "outputs": [
    {
     "data": {
      "text/plain": [
       "7"
      ]
     },
     "execution_count": 8,
     "metadata": {},
     "output_type": "execute_result"
    }
   ],
   "source": [
    "divs = soup.select('.paginate > a')\n",
    "page = len(divs) + 1\n",
    "page"
   ]
  },
  {
   "cell_type": "code",
   "execution_count": 9,
   "metadata": {},
   "outputs": [],
   "source": [
    "data = []\n",
    "driver = webdriver.Chrome()\n",
    "for page in range(1,len(divs)+1):\n",
    "    url = f'https://sports.news.naver.com/kbaseball/news/index?isphoto=N&page={page}'\n",
    "    driver.get(url)\n",
    "    time.sleep(2)\n",
    "    soup = BeautifulSoup(driver.page_source, 'html.parser')\n",
    "    lis = soup.select('.news_list > ul > li')\n",
    "    for li in lis:\n",
    "        title = li.select_one('.title > span').get_text().strip()\n",
    "        data.append(title)\n",
    "driver.close()"
   ]
  },
  {
   "cell_type": "code",
   "execution_count": 10,
   "metadata": {},
   "outputs": [
    {
     "data": {
      "text/html": [
       "<div>\n",
       "<style scoped>\n",
       "    .dataframe tbody tr th:only-of-type {\n",
       "        vertical-align: middle;\n",
       "    }\n",
       "\n",
       "    .dataframe tbody tr th {\n",
       "        vertical-align: top;\n",
       "    }\n",
       "\n",
       "    .dataframe thead th {\n",
       "        text-align: right;\n",
       "    }\n",
       "</style>\n",
       "<table border=\"1\" class=\"dataframe\">\n",
       "  <thead>\n",
       "    <tr style=\"text-align: right;\">\n",
       "      <th></th>\n",
       "      <th>0</th>\n",
       "    </tr>\n",
       "  </thead>\n",
       "  <tbody>\n",
       "    <tr>\n",
       "      <th>0</th>\n",
       "      <td>KIA, 23일 KT전 'ACC(국립아시아문화전당) 데이' 진행...가수 소향 특별 공연</td>\n",
       "    </tr>\n",
       "    <tr>\n",
       "      <th>1</th>\n",
       "      <td>KIA, 오는 23일 'ACC 데이'...가수 소향 경기전 축하공연 선보인다</td>\n",
       "    </tr>\n",
       "    <tr>\n",
       "      <th>2</th>\n",
       "      <td>kt wiz, 추석 맞아 키즈랜드 그라운드 캠프닉 개최</td>\n",
       "    </tr>\n",
       "    <tr>\n",
       "      <th>3</th>\n",
       "      <td>류중일호, 엔트리 교체…아직 끝이 아니다</td>\n",
       "    </tr>\n",
       "    <tr>\n",
       "      <th>4</th>\n",
       "      <td>“똘끼(?) 있는 투수 필요해” 루키 박권후 콜업, ‘스타일’에 반색한 박진만 [S...</td>\n",
       "    </tr>\n",
       "    <tr>\n",
       "      <th>...</th>\n",
       "      <td>...</td>\n",
       "    </tr>\n",
       "    <tr>\n",
       "      <th>115</th>\n",
       "      <td>'이정후 부상 낙마→홈런왕은 9월 1홈런. 항저우에서 누가 치나...' 타율 0.3...</td>\n",
       "    </tr>\n",
       "    <tr>\n",
       "      <th>116</th>\n",
       "      <td>‘커리어하이 앞두고...’ 또 부상에 발목잡힌 트레이드 성공신화…2년 전 빅딜, 여...</td>\n",
       "    </tr>\n",
       "    <tr>\n",
       "      <th>117</th>\n",
       "      <td>이만수 감독 총괄 라오스, AG 예선 1승 정조준</td>\n",
       "    </tr>\n",
       "    <tr>\n",
       "      <th>118</th>\n",
       "      <td>강백호 살아나고 구창모 돌아오고</td>\n",
       "    </tr>\n",
       "    <tr>\n",
       "      <th>119</th>\n",
       "      <td>롯데 “즉시 전력감보다 잠재력 뛰어난 신인 뽑았다”</td>\n",
       "    </tr>\n",
       "  </tbody>\n",
       "</table>\n",
       "<p>120 rows × 1 columns</p>\n",
       "</div>"
      ],
      "text/plain": [
       "                                                     0\n",
       "0    KIA, 23일 KT전 'ACC(국립아시아문화전당) 데이' 진행...가수 소향 특별 공연\n",
       "1           KIA, 오는 23일 'ACC 데이'...가수 소향 경기전 축하공연 선보인다\n",
       "2                       kt wiz, 추석 맞아 키즈랜드 그라운드 캠프닉 개최\n",
       "3                               류중일호, 엔트리 교체…아직 끝이 아니다\n",
       "4    “똘끼(?) 있는 투수 필요해” 루키 박권후 콜업, ‘스타일’에 반색한 박진만 [S...\n",
       "..                                                 ...\n",
       "115  '이정후 부상 낙마→홈런왕은 9월 1홈런. 항저우에서 누가 치나...' 타율 0.3...\n",
       "116  ‘커리어하이 앞두고...’ 또 부상에 발목잡힌 트레이드 성공신화…2년 전 빅딜, 여...\n",
       "117                        이만수 감독 총괄 라오스, AG 예선 1승 정조준\n",
       "118                                  강백호 살아나고 구창모 돌아오고\n",
       "119                       롯데 “즉시 전력감보다 잠재력 뛰어난 신인 뽑았다”\n",
       "\n",
       "[120 rows x 1 columns]"
      ]
     },
     "execution_count": 10,
     "metadata": {},
     "output_type": "execute_result"
    }
   ],
   "source": [
    "pd.DataFrame(data)"
   ]
  },
  {
   "cell_type": "code",
   "execution_count": 13,
   "metadata": {},
   "outputs": [
    {
     "data": {
      "text/plain": [
       "''"
      ]
     },
     "execution_count": 13,
     "metadata": {},
     "output_type": "execute_result"
    }
   ],
   "source": [
    "lis = soup.select('.lnb_list > li')\n",
    "li = lis[0]\n",
    "sub_url = li.select_one('.link_lnb')['href'].replace('/','')\n",
    "sub_url = sub_url[:-5]\n",
    "sub_url"
   ]
  },
  {
   "cell_type": "code",
   "execution_count": 12,
   "metadata": {},
   "outputs": [
    {
     "ename": "AttributeError",
     "evalue": "'int' object has no attribute 'select_one'",
     "output_type": "error",
     "traceback": [
      "\u001b[1;31m---------------------------------------------------------------------------\u001b[0m",
      "\u001b[1;31mAttributeError\u001b[0m                            Traceback (most recent call last)",
      "\u001b[1;32md:\\workspace\\02.DataAnalysis\\06.텍스트분석\\네이버뉴스.ipynb 셀 12\u001b[0m line \u001b[0;36m4\n\u001b[0;32m      <a href='vscode-notebook-cell:/d%3A/workspace/02.DataAnalysis/06.%ED%85%8D%EC%8A%A4%ED%8A%B8%EB%B6%84%EC%84%9D/%EB%84%A4%EC%9D%B4%EB%B2%84%EB%89%B4%EC%8A%A4.ipynb#X14sZmlsZQ%3D%3D?line=1'>2</a>\u001b[0m driver \u001b[39m=\u001b[39m webdriver\u001b[39m.\u001b[39mChrome()\n\u001b[0;32m      <a href='vscode-notebook-cell:/d%3A/workspace/02.DataAnalysis/06.%ED%85%8D%EC%8A%A4%ED%8A%B8%EB%B6%84%EC%84%9D/%EB%84%A4%EC%9D%B4%EB%B2%84%EB%89%B4%EC%8A%A4.ipynb#X14sZmlsZQ%3D%3D?line=2'>3</a>\u001b[0m \u001b[39mfor\u001b[39;00m li \u001b[39min\u001b[39;00m \u001b[39mrange\u001b[39m(\u001b[39m1\u001b[39m,\u001b[39m9\u001b[39m):\n\u001b[1;32m----> <a href='vscode-notebook-cell:/d%3A/workspace/02.DataAnalysis/06.%ED%85%8D%EC%8A%A4%ED%8A%B8%EB%B6%84%EC%84%9D/%EB%84%A4%EC%9D%B4%EB%B2%84%EB%89%B4%EC%8A%A4.ipynb#X14sZmlsZQ%3D%3D?line=3'>4</a>\u001b[0m     sub_url \u001b[39m=\u001b[39m li\u001b[39m.\u001b[39mselect_one(\u001b[39m'\u001b[39m\u001b[39m.link_lnb\u001b[39m\u001b[39m'\u001b[39m)[\u001b[39m'\u001b[39m\u001b[39mhref\u001b[39m\u001b[39m'\u001b[39m]\u001b[39m.\u001b[39mreplace(\u001b[39m'\u001b[39m\u001b[39m/\u001b[39m\u001b[39m'\u001b[39m,\u001b[39m'\u001b[39m\u001b[39m'\u001b[39m)\n\u001b[0;32m      <a href='vscode-notebook-cell:/d%3A/workspace/02.DataAnalysis/06.%ED%85%8D%EC%8A%A4%ED%8A%B8%EB%B6%84%EC%84%9D/%EB%84%A4%EC%9D%B4%EB%B2%84%EB%89%B4%EC%8A%A4.ipynb#X14sZmlsZQ%3D%3D?line=4'>5</a>\u001b[0m     sub_url \u001b[39m=\u001b[39m sub_url[:\u001b[39m-\u001b[39m\u001b[39m5\u001b[39m]\n\u001b[0;32m      <a href='vscode-notebook-cell:/d%3A/workspace/02.DataAnalysis/06.%ED%85%8D%EC%8A%A4%ED%8A%B8%EB%B6%84%EC%84%9D/%EB%84%A4%EC%9D%B4%EB%B2%84%EB%89%B4%EC%8A%A4.ipynb#X14sZmlsZQ%3D%3D?line=5'>6</a>\u001b[0m     \u001b[39mfor\u001b[39;00m page \u001b[39min\u001b[39;00m \u001b[39mrange\u001b[39m(\u001b[39m1\u001b[39m,\u001b[39mlen\u001b[39m(divs)\u001b[39m+\u001b[39m\u001b[39m1\u001b[39m):\n",
      "\u001b[1;31mAttributeError\u001b[0m: 'int' object has no attribute 'select_one'"
     ]
    }
   ],
   "source": [
    "data = []\n",
    "driver = webdriver.Chrome()\n",
    "for li in range(1,9):\n",
    "    lis = soup.select('.lnb_list > li')\n",
    "    sub_url = li.select_one('.link_lnb')['href'].replace('/','')\n",
    "    sub_url = sub_url[:-5]\n",
    "    for page in range(1,len(divs)+1):\n",
    "        url = f'https://sports.news.naver.com/{sub_url}/news/index?isphoto=N&page={page}'\n",
    "        driver.get(url)\n",
    "        time.sleep(2)\n",
    "        soup = BeautifulSoup(driver.page_source, 'html.parser')\n",
    "        lis = soup.select('.news_list > ul > li')\n",
    "        for li in lis:\n",
    "            title = li.select_one('.title > span').get_text().strip()\n",
    "            data.append(title)\n",
    "    driver.close()"
   ]
  },
  {
   "cell_type": "code",
   "execution_count": null,
   "metadata": {},
   "outputs": [],
   "source": []
  }
 ],
 "metadata": {
  "kernelspec": {
   "display_name": "base",
   "language": "python",
   "name": "python3"
  },
  "language_info": {
   "codemirror_mode": {
    "name": "ipython",
    "version": 3
   },
   "file_extension": ".py",
   "mimetype": "text/x-python",
   "name": "python",
   "nbconvert_exporter": "python",
   "pygments_lexer": "ipython3",
   "version": "3.11.4"
  },
  "orig_nbformat": 4
 },
 "nbformat": 4,
 "nbformat_minor": 2
}
